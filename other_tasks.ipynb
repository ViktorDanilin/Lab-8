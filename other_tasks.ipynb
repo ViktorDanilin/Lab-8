{
 "cells": [
  {
   "cell_type": "code",
   "execution_count": 14,
   "id": "69978d97",
   "metadata": {},
   "outputs": [],
   "source": [
    "import cv2 as cv\n",
    "import dlib\n",
    "import os\n",
    "import xml.etree.ElementTree as pars"
   ]
  },
  {
   "cell_type": "code",
   "execution_count": 8,
   "id": "684c1fd1",
   "metadata": {},
   "outputs": [
    {
     "name": "stdout",
     "output_type": "stream",
     "text": [
      "['1.jpg', '10.jpg', '11.jpg', '12.jpg', '13.jpg', '14.jpg', '2.jpg', '3.jpg', '4.jpg', '5.jpg', '6.jpg', '7.jpg', '8.jpg', '9.jpg', 'pattern.jpg']\n",
      "1\n",
      "10\n",
      "11\n",
      "12\n",
      "13\n",
      "14\n",
      "2\n",
      "3\n",
      "4\n",
      "5\n",
      "6\n",
      "7\n",
      "8\n",
      "9\n",
      "pattern\n",
      "Detector saved\n"
     ]
    }
   ],
   "source": [
    "# training dlib model\n",
    "# to create a dataset use \"labelImg\" application\n",
    "dir=r\"patterns\" # image data set (15 pieces) needs more, but laziness\n",
    "images=[]\n",
    "annots=[]\n",
    "\n",
    "imgNameList = os.listdir(dir + \"/images\")\n",
    "\n",
    "print(imgNameList)\n",
    "\n",
    "for FileName in imgNameList:\n",
    "    image = cv2.imread(dir + \"/images/\" + FileName)\n",
    "    image=cv2.cvtColor(image, cv2.COLOR_BGR2RGB)\n",
    "    \n",
    "    OnlyFileName = FileName.split(\".\")[0]  \n",
    "    print(OnlyFileName)\n",
    "    e = pars.parse(dir + \"/annotations/\" + OnlyFileName + \".xml\")\n",
    "    root = e.getroot()\n",
    "    object = root.find(\"object\")\n",
    "    object = object.find(\"bndbox\")\n",
    "    x = int(object.find(\"xmin\").text)\n",
    "    y = int(object.find(\"ymin\").text)\n",
    "    x2 = int(object.find(\"xmax\").text)\n",
    "    y2 = int(object.find(\"ymax\").text)\n",
    "    \n",
    "    images.append(image)\n",
    "    annots.append([dlib.rectangle(left=x, top=y, right=x2,bottom=y2)])\n",
    "    \n",
    "options = dlib.simple_object_detector_training_options()\n",
    "options.be_verbose=True\n",
    "\n",
    "detector = dlib.train_simple_object_detector(images,annots,options)\n",
    "\n",
    "detector.save(\"tld.swm\")    \n",
    "print(\"Detector saved\")"
   ]
  },
  {
   "cell_type": "code",
   "execution_count": 15,
   "id": "2357dc40",
   "metadata": {},
   "outputs": [
    {
     "name": "stdout",
     "output_type": "stream",
     "text": [
      "Правая половина\n",
      "Правая половина\n",
      "Правая половина\n",
      "Правая половина\n",
      "Правая половина\n",
      "Правая половина\n",
      "Правая половина\n",
      "Правая половина\n",
      "Правая половина\n",
      "Правая половина\n",
      "Правая половина\n",
      "Правая половина\n",
      "Правая половина\n",
      "Правая половина\n",
      "Правая половина\n",
      "Правая половина\n",
      "Правая половина\n",
      "Правая половина\n",
      "Правая половина\n",
      "Правая половина\n",
      "Правая половина\n",
      "Правая половина\n",
      "Правая половина\n",
      "Правая половина\n",
      "Правая половина\n",
      "Правая половина\n",
      "Правая половина\n",
      "Правая половина\n",
      "Правая половина\n",
      "Правая половина\n",
      "Правая половина\n",
      "Правая половина\n",
      "Правая половина\n"
     ]
    }
   ],
   "source": [
    "model_detector = dlib.simple_object_detector(\"tld.swm\")  # use dlib model\n",
    "font = cv.FONT_HERSHEY_COMPLEX\n",
    "cap = cv.VideoCapture(0)\n",
    "img = cv.imread('fly64.png')\n",
    "img = cv.resize(img, (20, 20))\n",
    "img_height, img_width, _ = img.shape  # size of img\n",
    "while True:\n",
    "    ret, frame = cap.read()\n",
    "\n",
    "    boxes = model_detector(frame)\n",
    "    for box in boxes:\n",
    "        (x, y, xb, yb) = [box.left(), box.top(), box.right(), box.bottom()]\n",
    "        cv.rectangle(frame, (x, y), (xb, yb), (0, 0, 225), 2)  # drawing contour\n",
    "        center = ((int(x + ((xb - x) / 2))), int(y + ((yb - y) / 2)))  # cords of center\n",
    "        x_center = center[0]\n",
    "        y_center = center[1]\n",
    "        string = str(x_center) + \" \" + str(y_center)\n",
    "        cv.putText(frame, string, center, font, 0.5, (255, 0, 0))\n",
    "        cv.circle(frame, center, 5, (255, 0, 0), 2)\n",
    "        frame[y_center:y_center + img_height, x_center:x_center + img_width] = img  # add img to center of frame\n",
    "        if x_center > 350:  # condition for right side frame\n",
    "            print('Правая половина')\n",
    "    cv.imshow(\"frame\", frame)  # show frame with contour and cord of center\n",
    "\n",
    "    if cv.waitKey(1) == ord(\"q\"):\n",
    "\n",
    "        break\n",
    "\n",
    "cap.release()\n",
    "cv.destroyAllWindows()"
   ]
  },
  {
   "cell_type": "code",
   "execution_count": null,
   "id": "b40e5840",
   "metadata": {},
   "outputs": [],
   "source": []
  }
 ],
 "metadata": {
  "kernelspec": {
   "display_name": "Python 3 (ipykernel)",
   "language": "python",
   "name": "python3"
  },
  "language_info": {
   "codemirror_mode": {
    "name": "ipython",
    "version": 3
   },
   "file_extension": ".py",
   "mimetype": "text/x-python",
   "name": "python",
   "nbconvert_exporter": "python",
   "pygments_lexer": "ipython3",
   "version": "3.9.5"
  }
 },
 "nbformat": 4,
 "nbformat_minor": 5
}
