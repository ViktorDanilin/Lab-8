{
 "cells": [
  {
   "cell_type": "code",
   "execution_count": 1,
   "id": "69978d97",
   "metadata": {},
   "outputs": [],
   "source": [
    "import cv2 as cv\n",
    "import dlib\n",
    "import os\n",
    "import xml.etree.ElementTree as pars"
   ]
  },
  {
   "cell_type": "code",
   "execution_count": 5,
   "id": "684c1fd1",
   "metadata": {},
   "outputs": [
    {
     "name": "stdout",
     "output_type": "stream",
     "text": [
      "['1.jpg', '10.jpg', '11.jpg', '12.jpg', '13.jpg', '14.jpg', '2.jpg', '3.jpg', '4.jpg', '5.jpg', '6.jpg', '7.jpg', '8.jpg', '9.jpg', 'pattern.jpg', 'WIN_20230301_16_03_15_Pro.mp4', 'WIN_20230301_16_03_20_Pro.jpg', 'WIN_20230301_16_03_21_Pro.jpg', 'WIN_20230301_16_03_24_Pro.jpg', 'WIN_20230301_16_03_27_Pro.jpg', 'WIN_20230301_16_03_29_Pro.jpg', 'WIN_20230301_16_03_33_Pro.jpg', 'WIN_20230301_16_03_38_Pro.jpg', 'WIN_20230301_16_03_40_Pro.jpg', 'WIN_20230301_16_03_44_Pro.jpg', 'WIN_20230301_16_03_45_Pro.jpg', 'WIN_20230301_16_03_48_Pro.jpg', 'WIN_20230301_16_03_50_Pro.jpg', 'WIN_20230301_16_03_52_Pro.jpg', 'WIN_20230301_16_03_55_Pro.jpg', 'WIN_20230301_16_03_56_Pro.jpg', 'WIN_20230301_16_03_57_Pro.jpg', 'WIN_20230301_16_03_58_Pro.jpg']\n",
      "1\n",
      "10\n",
      "11\n",
      "12\n",
      "13\n",
      "14\n",
      "2\n",
      "3\n",
      "4\n",
      "5\n",
      "6\n",
      "7\n",
      "8\n",
      "9\n",
      "pattern\n"
     ]
    },
    {
     "ename": "error",
     "evalue": "OpenCV(4.5.5) D:\\a\\opencv-python\\opencv-python\\opencv\\modules\\imgproc\\src\\color.cpp:182: error: (-215:Assertion failed) !_src.empty() in function 'cv::cvtColor'\n",
     "output_type": "error",
     "traceback": [
      "\u001b[1;31m---------------------------------------------------------------------------\u001b[0m",
      "\u001b[1;31merror\u001b[0m                                     Traceback (most recent call last)",
      "Input \u001b[1;32mIn [5]\u001b[0m, in \u001b[0;36m<cell line: 11>\u001b[1;34m()\u001b[0m\n\u001b[0;32m     11\u001b[0m \u001b[38;5;28;01mfor\u001b[39;00m FileName \u001b[38;5;129;01min\u001b[39;00m imgNameList:\n\u001b[0;32m     12\u001b[0m     image \u001b[38;5;241m=\u001b[39m cv\u001b[38;5;241m.\u001b[39mimread(\u001b[38;5;28mdir\u001b[39m \u001b[38;5;241m+\u001b[39m \u001b[38;5;124m\"\u001b[39m\u001b[38;5;124m/images/\u001b[39m\u001b[38;5;124m\"\u001b[39m \u001b[38;5;241m+\u001b[39m FileName)\n\u001b[1;32m---> 13\u001b[0m     image\u001b[38;5;241m=\u001b[39m\u001b[43mcv\u001b[49m\u001b[38;5;241;43m.\u001b[39;49m\u001b[43mcvtColor\u001b[49m\u001b[43m(\u001b[49m\u001b[43mimage\u001b[49m\u001b[43m,\u001b[49m\u001b[43m \u001b[49m\u001b[43mcv\u001b[49m\u001b[38;5;241;43m.\u001b[39;49m\u001b[43mCOLOR_BGR2RGB\u001b[49m\u001b[43m)\u001b[49m\n\u001b[0;32m     15\u001b[0m     OnlyFileName \u001b[38;5;241m=\u001b[39m FileName\u001b[38;5;241m.\u001b[39msplit(\u001b[38;5;124m\"\u001b[39m\u001b[38;5;124m.\u001b[39m\u001b[38;5;124m\"\u001b[39m)[\u001b[38;5;241m0\u001b[39m]  \n\u001b[0;32m     16\u001b[0m     \u001b[38;5;28mprint\u001b[39m(OnlyFileName)\n",
      "\u001b[1;31merror\u001b[0m: OpenCV(4.5.5) D:\\a\\opencv-python\\opencv-python\\opencv\\modules\\imgproc\\src\\color.cpp:182: error: (-215:Assertion failed) !_src.empty() in function 'cv::cvtColor'\n"
     ]
    }
   ],
   "source": [
    "# training dlib model\n",
    "# to create a dataset use \"labelImg\" application\n",
    "dir=r\"patterns\" # image data set (15 pieces) needs more, but laziness\n",
    "images=[]\n",
    "annots=[]\n",
    "\n",
    "imgNameList = os.listdir(dir + \"/images\")\n",
    "\n",
    "print(imgNameList)\n",
    "\n",
    "for FileName in imgNameList:\n",
    "    image = cv.imread(dir + \"/images/\" + FileName)\n",
    "    image=cv.cvtColor(image, cv.COLOR_BGR2RGB)\n",
    "    \n",
    "    OnlyFileName = FileName.split(\".\")[0]  \n",
    "    print(OnlyFileName)\n",
    "    e = pars.parse(dir + \"/annotations/\" + OnlyFileName + \".xml\")\n",
    "    root = e.getroot()\n",
    "    object = root.find(\"object\")\n",
    "    object = object.find(\"bndbox\")\n",
    "    x = int(object.find(\"xmin\").text)\n",
    "    y = int(object.find(\"ymin\").text)\n",
    "    x2 = int(object.find(\"xmax\").text)\n",
    "    y2 = int(object.find(\"ymax\").text)\n",
    "    \n",
    "    images.append(image)\n",
    "    annots.append([dlib.rectangle(left=x, top=y, right=x2,bottom=y2)])\n",
    "    \n",
    "options = dlib.simple_object_detector_training_options()\n",
    "options.be_verbose=True\n",
    "\n",
    "detector = dlib.train_simple_object_detector(images,annots,options)\n",
    "\n",
    "detector.save(\"tld.swm\")    \n",
    "print(\"Detector saved\")"
   ]
  },
  {
   "cell_type": "code",
   "execution_count": 15,
   "id": "2357dc40",
   "metadata": {},
   "outputs": [
    {
     "name": "stdout",
     "output_type": "stream",
     "text": [
      "Правая половина\n",
      "Правая половина\n",
      "Правая половина\n",
      "Правая половина\n",
      "Правая половина\n",
      "Правая половина\n",
      "Правая половина\n",
      "Правая половина\n",
      "Правая половина\n",
      "Правая половина\n",
      "Правая половина\n",
      "Правая половина\n",
      "Правая половина\n",
      "Правая половина\n",
      "Правая половина\n",
      "Правая половина\n",
      "Правая половина\n",
      "Правая половина\n",
      "Правая половина\n",
      "Правая половина\n",
      "Правая половина\n",
      "Правая половина\n",
      "Правая половина\n",
      "Правая половина\n",
      "Правая половина\n",
      "Правая половина\n",
      "Правая половина\n",
      "Правая половина\n",
      "Правая половина\n",
      "Правая половина\n",
      "Правая половина\n",
      "Правая половина\n",
      "Правая половина\n"
     ]
    }
   ],
   "source": [
    "model_detector = dlib.simple_object_detector(\"tld.swm\")  # use dlib model\n",
    "font = cv.FONT_HERSHEY_COMPLEX\n",
    "cap = cv.VideoCapture(0)\n",
    "img = cv.imread('fly64.png')\n",
    "img = cv.resize(img, (20, 20))\n",
    "img_height, img_width, _ = img.shape  # size of img\n",
    "while True:\n",
    "    ret, frame = cap.read()\n",
    "\n",
    "    boxes = model_detector(frame)\n",
    "    for box in boxes:\n",
    "        (x, y, xb, yb) = [box.left(), box.top(), box.right(), box.bottom()]\n",
    "        cv.rectangle(frame, (x, y), (xb, yb), (0, 0, 225), 2)  # drawing contour\n",
    "        center = ((int(x + ((xb - x) / 2))), int(y + ((yb - y) / 2)))  # cords of center\n",
    "        x_center = center[0]\n",
    "        y_center = center[1]\n",
    "        string = str(x_center) + \" \" + str(y_center)\n",
    "        cv.putText(frame, string, center, font, 0.5, (255, 0, 0))\n",
    "        cv.circle(frame, center, 5, (255, 0, 0), 2)\n",
    "        frame[y_center:y_center + img_height, x_center:x_center + img_width] = img  # add img to center of frame\n",
    "        if x_center > 350:  # condition for right side frame\n",
    "            print('Правая половина')\n",
    "    cv.imshow(\"frame\", frame)  # show frame with contour and cord of center\n",
    "\n",
    "    if cv.waitKey(1) == ord(\"q\"):\n",
    "\n",
    "        break\n",
    "\n",
    "cap.release()\n",
    "cv.destroyAllWindows()"
   ]
  },
  {
   "cell_type": "code",
   "execution_count": null,
   "id": "b40e5840",
   "metadata": {},
   "outputs": [],
   "source": []
  }
 ],
 "metadata": {
  "kernelspec": {
   "display_name": "Python 3 (ipykernel)",
   "language": "python",
   "name": "python3"
  },
  "language_info": {
   "codemirror_mode": {
    "name": "ipython",
    "version": 3
   },
   "file_extension": ".py",
   "mimetype": "text/x-python",
   "name": "python",
   "nbconvert_exporter": "python",
   "pygments_lexer": "ipython3",
   "version": "3.9.5"
  }
 },
 "nbformat": 4,
 "nbformat_minor": 5
}
